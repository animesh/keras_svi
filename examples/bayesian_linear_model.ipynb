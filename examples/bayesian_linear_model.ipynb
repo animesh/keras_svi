{
 "cells": [
  {
   "cell_type": "markdown",
   "metadata": {},
   "source": [
    "### Bayesian linear model \n",
    "#### Copyright (C) 2020 Krzysztof Rusek AGH University of Science and Technology."
   ]
  },
  {
   "cell_type": "code",
   "execution_count": null,
   "metadata": {
    "pycharm": {
     "name": "#%% md\n"
    }
   },
   "outputs": [],
   "source": [
    "'''\n",
    " *\n",
    " * Copyright (C) 2020 AGH University of Science and Technology.\n",
    " *\n",
    " * Licensed under the Apache License, Version 2.0 (the \"License\");\n",
    " * you may not use this file except in compliance with the License.\n",
    " * You may obtain a copy of the License at:\n",
    " *\n",
    " *     http://www.apache.org/licenses/LICENSE-2.0\n",
    " *\n",
    " * Unless required by applicable law or agreed to in writing, software\n",
    " * distributed under the License is distributed on an \"AS IS\" BASIS,\n",
    " * WITHOUT WARRANTIES OR CONDITIONS OF ANY KIND, either express or implied.\n",
    " * See the License for the specific language governing permissions and\n",
    " * limitations under the License.\n",
    " *\n",
    "'''"
   ]
  },
  {
   "cell_type": "code",
   "execution_count": 18,
   "metadata": {
    "pycharm": {
     "name": "#%%\n"
    }
   },
   "outputs": [],
   "source": [
    "import numpy as np\n",
    "import seaborn as  sns\n",
    "import tensorflow as tf\n",
    "import matplotlib.pyplot as plt\n",
    "from keras_svi import svi\n",
    "from keras_svi import util as sviu\n",
    "\n",
    "import tensorflow_probability as tfp\n",
    "tfd = tfp.distributions\n",
    "tfb = tfp.bijectors"
   ]
  },
  {
   "cell_type": "markdown",
   "metadata": {
    "pycharm": {
     "name": "#%% md\n"
    }
   },
   "source": [
    "# Dataset"
   ]
  },
  {
   "cell_type": "code",
   "execution_count": 3,
   "metadata": {
    "pycharm": {
     "name": "#%% Dataset\n"
    }
   },
   "outputs": [],
   "source": [
    "_x= np.random.normal(size=(20,1)).astype(np.float32)\n",
    "_y= 4*_x+1 + np.random.normal(size=_x.shape, scale=.1).astype(np.float32)"
   ]
  },
  {
   "cell_type": "markdown",
   "metadata": {
    "pycharm": {
     "name": "#%% md\n"
    }
   },
   "source": [
    "# Baseline MLE model"
   ]
  },
  {
   "cell_type": "code",
   "execution_count": 4,
   "metadata": {
    "pycharm": {
     "name": "#%% Baseline keras model\n"
    }
   },
   "outputs": [
    {
     "data": {
      "text/plain": [
       "<tensorflow.python.keras.callbacks.History at 0x146582dc0>"
      ]
     },
     "execution_count": 4,
     "metadata": {},
     "output_type": "execute_result"
    }
   ],
   "source": [
    "mle_model=tf.keras.Sequential([\n",
    "    tf.keras.layers.Dense(1)\n",
    "])\n",
    "\n",
    "mle_model.compile(loss='mse', optimizer=tf.keras.optimizers.Adam(learning_rate=0.1))\n",
    "\n",
    "mle_model.fit(_x,_y, epochs=200,verbose=0)"
   ]
  },
  {
   "cell_type": "code",
   "execution_count": 5,
   "metadata": {
    "pycharm": {
     "name": "#%%\n"
    }
   },
   "outputs": [
    {
     "data": {
      "text/plain": [
       "[<matplotlib.lines.Line2D at 0x146d1afd0>]"
      ]
     },
     "execution_count": 5,
     "metadata": {},
     "output_type": "execute_result"
    },
    {
     "data": {
      "image/png": "[encoded data removed]",
      "text/plain": [
       "<Figure size 432x288 with 1 Axes>"
      ]
     },
     "metadata": {
      "needs_background": "light"
     },
     "output_type": "display_data"
    }
   ],
   "source": [
    "sns.scatterplot(mle_model.predict(_x).flatten(),_y.flatten())\n",
    "plt.plot(plt.xlim(), plt.xlim(), 'k:')"
   ]
  },
  {
   "cell_type": "markdown",
   "metadata": {
    "pycharm": {
     "name": "#%% md\n"
    }
   },
   "source": [
    "# Bayesian model"
   ]
  },
  {
   "cell_type": "markdown",
   "metadata": {},
   "source": [
    "Here we define a model"
   ]
  },
  {
   "cell_type": "code",
   "execution_count": 23,
   "metadata": {
    "pycharm": {
     "name": "#%% Bayesian model\n"
    }
   },
   "outputs": [],
   "source": [
    "_model=tf.keras.Sequential([\n",
    "    tf.keras.layers.Dense(1),\n",
    "    tfp.layers.DistributionLambda(lambda t: tfd.Normal(loc=t, scale=1))\n",
    "])\n",
    "_model.build(_x.shape)\n",
    "\n",
    "\n",
    "\n",
    "def _make_posterior(v):\n",
    "    n = len(v.shape)\n",
    "    print(v.name)\n",
    "    return tfd.Independent(tfd.Normal(loc=tf.Variable(tf.convert_to_tensor(v)),\n",
    "                                      scale=tfp.util.TransformedVariable(0.00002 + tf.zeros_like(v),\n",
    "                                                                         tfb.Softplus()(tfb.Scale(0.2)))),\n",
    "                           reinterpreted_batch_ndims=n,\n",
    "                           name=\"posterior/\"+v.name)\n",
    "\n",
    "\n",
    "def _make_prior(posterior):\n",
    "    n = len(posterior.event_shape)\n",
    "    name = posterior.name\n",
    "    name = 'prior/'+name\n",
    "    print(name)\n",
    "    if name.find('bias')>0:\n",
    "        return tfd.Independent(tfd.Normal(tf.zeros(posterior.event_shape), 5.),\n",
    "                               reinterpreted_batch_ndims=n,\n",
    "                               name = name)\n",
    "    else:\n",
    "        return tfd.Independent(tfd.Normal(tf.zeros(posterior.event_shape), 2.),\n",
    "                               reinterpreted_batch_ndims=n,\n",
    "                               name = name)"
   ]
  },
  {
   "cell_type": "markdown",
   "metadata": {
    "pycharm": {
     "name": "#%% md\n"
    }
   },
   "source": [
    "## Inference\n",
    "\n",
    "Here the model is made bayesian"
   ]
  },
  {
   "cell_type": "code",
   "execution_count": 24,
   "metadata": {
    "pycharm": {
     "name": "#%%\n"
    }
   },
   "outputs": [
    {
     "name": "stdout",
     "output_type": "stream",
     "text": [
      "dense_2/kernel:0\n",
      "dense_2/bias:0\n",
      "prior/svi_3_posterior_dense_2_kernel_0\n",
      "prior/svi_3_posterior_dense_2_bias_0\n"
     ]
    }
   ],
   "source": [
    "\n",
    "bayesian_model = svi.SVI(_model,\n",
    "                         kl_scale=1.0/_x.shape[0],\n",
    "                         prior_fn=_make_prior,\n",
    "                         posterior_fn=_make_posterior\n",
    "                         )\n",
    "\n",
    "bayesian_model.compile(\n",
    "    loss=lambda y, rv_y: -rv_y.log_prob(y),\n",
    "    optimizer=tf.keras.optimizers.Adam(learning_rate=0.1))\n",
    "\n",
    "h=bayesian_model.fit(_x,_y, \n",
    "                     epochs=1000, \n",
    "                     batch_size=20, \n",
    "                     verbose=0,\n",
    "                     callbacks=[sviu.PosteriorChecpoint('checkpoint')]\n",
    "                    )"
   ]
  },
  {
   "cell_type": "code",
   "execution_count": 25,
   "metadata": {},
   "outputs": [
    {
     "name": "stdout",
     "output_type": "stream",
     "text": [
      "Posterior mean: [4.032810688018799, 1.0902622938156128]\n",
      "Posterior std: [0.21026116609573364, 0.19700519740581512]\n"
     ]
    }
   ],
   "source": [
    "print(\"Posterior mean:\", [float(x.numpy()) for x in bayesian_model.posterior.mean()])\n",
    "print(\"Posterior std:\", [float(x.numpy()) for x in bayesian_model.posterior.stddev()])"
   ]
  },
  {
   "cell_type": "markdown",
   "metadata": {
    "pycharm": {
     "name": "#%% md\n"
    }
   },
   "source": [
    "## Prediction"
   ]
  },
  {
   "cell_type": "code",
   "execution_count": 26,
   "metadata": {
    "pycharm": {
     "name": "#%%\n"
    }
   },
   "outputs": [
    {
     "data": {
      "image/png": "[encoded data removed]",
      "text/plain": [
       "<Figure size 432x288 with 1 Axes>"
      ]
     },
     "metadata": {
      "needs_background": "light"
     },
     "output_type": "display_data"
    }
   ],
   "source": [
    "hats=[]\n",
    "for i in range(100):\n",
    "    yhat = bayesian_model(_x).mean().numpy()\n",
    "    hats.append(yhat)\n",
    "\n",
    "yhat = np.concatenate(hats, axis=1).mean(axis=1)\n",
    "sd = np.concatenate(hats, axis=1).std(axis=1)\n",
    "yf = _y.flatten()\n",
    "\n",
    "sns.scatterplot(yf,yhat)\n",
    "i = np.argsort(yf)\n",
    "plt.fill_between(yf[i], yhat[i]-2*sd[i], yhat[i]+2*sd[i],alpha=0.2)\n",
    "plt.plot(plt.xlim(),plt.xlim(),'k:')\n",
    "plt.show()\n",
    "\n"
   ]
  },
  {
   "cell_type": "markdown",
   "metadata": {},
   "source": [
    "## Out of distribution"
   ]
  },
  {
   "cell_type": "code",
   "execution_count": 27,
   "metadata": {
    "scrolled": true
   },
   "outputs": [
    {
     "data": {
      "image/png": "[encoded data removed]",
      "text/plain": [
       "<Figure size 432x288 with 1 Axes>"
      ]
     },
     "metadata": {
      "needs_background": "light"
     },
     "output_type": "display_data"
    }
   ],
   "source": [
    "hats=[]\n",
    "\n",
    "offset = 10.\n",
    "\n",
    "for i in range(100):\n",
    "    yhat = bayesian_model(_x+offset).mean().numpy()\n",
    "    hats.append(yhat)\n",
    "\n",
    "yhat = np.concatenate(hats, axis=1).mean(axis=1)\n",
    "sd = np.concatenate(hats, axis=1).std(axis=1)\n",
    "yf = (4*(_x+offset)+1).flatten()\n",
    "\n",
    "sns.scatterplot(yf,yhat)\n",
    "i = np.argsort(yf)\n",
    "plt.fill_between(yf[i], yhat[i]-2*sd[i], yhat[i]+2*sd[i],alpha=0.2)\n",
    "plt.plot(plt.xlim(),plt.xlim(),'k:')\n",
    "plt.show()\n",
    "\n"
   ]
  },
  {
   "cell_type": "code",
   "execution_count": null,
   "metadata": {},
   "outputs": [],
   "source": []
  }
 ],
 "metadata": {
  "kernelspec": {
   "display_name": "Python 3",
   "language": "python",
   "name": "python3"
  },
  "language_info": {
   "codemirror_mode": {
    "name": "ipython",
    "version": 3
   },
   "file_extension": ".py",
   "mimetype": "text/x-python",
   "name": "python",
   "nbconvert_exporter": "python",
   "pygments_lexer": "ipython3",
   "version": "3.8.6"
  }
 },
 "nbformat": 4,
 "nbformat_minor": 1
}
